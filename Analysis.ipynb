{
 "cells": [
  {
   "cell_type": "code",
   "execution_count": 1,
   "metadata": {},
   "outputs": [],
   "source": [
    "import numpy as np\n",
    "import pandas as pd\n",
    "import matplotlib.pyplot as plt\n",
    "import seaborn as sns"
   ]
  },
  {
   "cell_type": "code",
   "execution_count": 28,
   "metadata": {},
   "outputs": [],
   "source": [
    "df = pd.read_csv('countries of the world.csv',decimal=',')\n",
    "\n"
   ]
  },
  {
   "cell_type": "code",
   "execution_count": 29,
   "metadata": {},
   "outputs": [
    {
     "data": {
      "text/plain": [
       "<AxesSubplot:>"
      ]
     },
     "execution_count": 29,
     "metadata": {},
     "output_type": "execute_result"
    },
    {
     "data": {
      "image/png": "[encoded data removed]",
      "text/plain": [
       "<Figure size 432x288 with 2 Axes>"
      ]
     },
     "metadata": {
      "needs_background": "light"
     },
     "output_type": "display_data"
    }
   ],
   "source": [
    "sns.heatmap(df.isnull())"
   ]
  },
  {
   "cell_type": "code",
   "execution_count": 30,
   "metadata": {},
   "outputs": [
    {
     "name": "stdout",
     "output_type": "stream",
     "text": [
      "number of missing data:\n",
      "Country                                0\n",
      "Region                                 0\n",
      "Population                             0\n",
      "Area (sq. mi.)                         0\n",
      "Pop. Density (per sq. mi.)             0\n",
      "Coastline (coast/area ratio)           0\n",
      "Net migration                          3\n",
      "Infant mortality (per 1000 births)     3\n",
      "GDP ($ per capita)                     1\n",
      "Literacy (%)                          18\n",
      "Phones (per 1000)                      4\n",
      "Arable (%)                             2\n",
      "Crops (%)                              2\n",
      "Other (%)                              2\n",
      "Climate                               22\n",
      "Birthrate                              3\n",
      "Deathrate                              4\n",
      "Agriculture                           15\n",
      "Industry                              16\n",
      "Service                               15\n",
      "dtype: int64\n"
     ]
    }
   ],
   "source": [
    "print('number of missing data:')\n",
    "print(df.isnull().sum())\n"
   ]
  },
  {
   "cell_type": "code",
   "execution_count": 31,
   "metadata": {},
   "outputs": [
    {
     "data": {
      "text/html": [
       "<div>\n",
       "<style scoped>\n",
       "    .dataframe tbody tr th:only-of-type {\n",
       "        vertical-align: middle;\n",
       "    }\n",
       "\n",
       "    .dataframe tbody tr th {\n",
       "        vertical-align: top;\n",
       "    }\n",
       "\n",
       "    .dataframe thead th {\n",
       "        text-align: right;\n",
       "    }\n",
       "</style>\n",
       "<table border=\"1\" class=\"dataframe\">\n",
       "  <thead>\n",
       "    <tr style=\"text-align: right;\">\n",
       "      <th></th>\n",
       "      <th>GDP ($ per capita)</th>\n",
       "      <th>Area (sq. mi.)</th>\n",
       "      <th>Population</th>\n",
       "    </tr>\n",
       "    <tr>\n",
       "      <th>Region</th>\n",
       "      <th></th>\n",
       "      <th></th>\n",
       "      <th></th>\n",
       "    </tr>\n",
       "  </thead>\n",
       "  <tbody>\n",
       "    <tr>\n",
       "      <th>ASIA (EX. NEAR EAST)</th>\n",
       "      <td>3450.0</td>\n",
       "      <td>208920.0</td>\n",
       "      <td>26336502.5</td>\n",
       "    </tr>\n",
       "    <tr>\n",
       "      <th>BALTICS</th>\n",
       "      <td>11400.0</td>\n",
       "      <td>64589.0</td>\n",
       "      <td>2274735.0</td>\n",
       "    </tr>\n",
       "    <tr>\n",
       "      <th>C.W. OF IND. STATES</th>\n",
       "      <td>3450.0</td>\n",
       "      <td>203050.0</td>\n",
       "      <td>7641217.0</td>\n",
       "    </tr>\n",
       "    <tr>\n",
       "      <th>EASTERN EUROPE</th>\n",
       "      <td>9100.0</td>\n",
       "      <td>67704.0</td>\n",
       "      <td>6412407.5</td>\n",
       "    </tr>\n",
       "    <tr>\n",
       "      <th>LATIN AMER. &amp; CARIB</th>\n",
       "      <td>6300.0</td>\n",
       "      <td>22966.0</td>\n",
       "      <td>1065842.0</td>\n",
       "    </tr>\n",
       "    <tr>\n",
       "      <th>NEAR EAST</th>\n",
       "      <td>9250.0</td>\n",
       "      <td>51825.0</td>\n",
       "      <td>3488139.5</td>\n",
       "    </tr>\n",
       "    <tr>\n",
       "      <th>NORTHERN AFRICA</th>\n",
       "      <td>6000.0</td>\n",
       "      <td>724000.0</td>\n",
       "      <td>21552552.5</td>\n",
       "    </tr>\n",
       "    <tr>\n",
       "      <th>NORTHERN AMERICA</th>\n",
       "      <td>29800.0</td>\n",
       "      <td>2166086.0</td>\n",
       "      <td>65773.0</td>\n",
       "    </tr>\n",
       "    <tr>\n",
       "      <th>OCEANIA</th>\n",
       "      <td>5000.0</td>\n",
       "      <td>811.0</td>\n",
       "      <td>114689.0</td>\n",
       "    </tr>\n",
       "    <tr>\n",
       "      <th>SUB-SAHARAN AFRICA</th>\n",
       "      <td>1300.0</td>\n",
       "      <td>245857.0</td>\n",
       "      <td>8090068.0</td>\n",
       "    </tr>\n",
       "    <tr>\n",
       "      <th>WESTERN EUROPE</th>\n",
       "      <td>27200.0</td>\n",
       "      <td>42310.0</td>\n",
       "      <td>4921096.0</td>\n",
       "    </tr>\n",
       "  </tbody>\n",
       "</table>\n",
       "</div>"
      ],
      "text/plain": [
       "                                     GDP ($ per capita)  Area (sq. mi.)  \\\n",
       "Region                                                                    \n",
       "ASIA (EX. NEAR EAST)                             3450.0        208920.0   \n",
       "BALTICS                                         11400.0         64589.0   \n",
       "C.W. OF IND. STATES                              3450.0        203050.0   \n",
       "EASTERN EUROPE                                   9100.0         67704.0   \n",
       "LATIN AMER. & CARIB                              6300.0         22966.0   \n",
       "NEAR EAST                                        9250.0         51825.0   \n",
       "NORTHERN AFRICA                                  6000.0        724000.0   \n",
       "NORTHERN AMERICA                                29800.0       2166086.0   \n",
       "OCEANIA                                          5000.0           811.0   \n",
       "SUB-SAHARAN AFRICA                               1300.0        245857.0   \n",
       "WESTERN EUROPE                                  27200.0         42310.0   \n",
       "\n",
       "                                     Population  \n",
       "Region                                           \n",
       "ASIA (EX. NEAR EAST)                 26336502.5  \n",
       "BALTICS                               2274735.0  \n",
       "C.W. OF IND. STATES                   7641217.0  \n",
       "EASTERN EUROPE                        6412407.5  \n",
       "LATIN AMER. & CARIB                   1065842.0  \n",
       "NEAR EAST                             3488139.5  \n",
       "NORTHERN AFRICA                      21552552.5  \n",
       "NORTHERN AMERICA                        65773.0  \n",
       "OCEANIA                                114689.0  \n",
       "SUB-SAHARAN AFRICA                    8090068.0  \n",
       "WESTERN EUROPE                        4921096.0  "
      ]
     },
     "execution_count": 31,
     "metadata": {},
     "output_type": "execute_result"
    }
   ],
   "source": [
    "df.groupby('Region')[['GDP ($ per capita)','Area (sq. mi.)','Population']].median()"
   ]
  },
  {
   "cell_type": "code",
   "execution_count": 32,
   "metadata": {},
   "outputs": [
    {
     "name": "stderr",
     "output_type": "stream",
     "text": [
      "C:\\ProgramData\\Anaconda3\\lib\\site-packages\\pandas\\core\\indexing.py:670: SettingWithCopyWarning: \n",
      "A value is trying to be set on a copy of a slice from a DataFrame\n",
      "\n",
      "See the caveats in the documentation: https://pandas.pydata.org/pandas-docs/stable/user_guide/indexing.html#returning-a-view-versus-a-copy\n",
      "  iloc._setitem_with_indexer(indexer, value)\n"
     ]
    }
   ],
   "source": [
    "for col in df.columns.values:\n",
    "    if df[col].isnull().sum() == 0:\n",
    "        continue\n",
    "    if col == 'Climate':\n",
    "        guess_values = df.groupby('Region')['Climate'].apply(lambda x: x.mode().max())\n",
    "    else:\n",
    "        guess_values = df.groupby('Region')[col].median()\n",
    "    for region in df['Region'].unique():\n",
    "        df[col].loc[(df[col].isnull())&(df['Region']==region)] = guess_values[region]\n"
   ]
  },
  {
   "cell_type": "code",
   "execution_count": 33,
   "metadata": {},
   "outputs": [
    {
     "name": "stdout",
     "output_type": "stream",
     "text": [
      "number of missing data:\n",
      "Country                               0\n",
      "Region                                0\n",
      "Population                            0\n",
      "Area (sq. mi.)                        0\n",
      "Pop. Density (per sq. mi.)            0\n",
      "Coastline (coast/area ratio)          0\n",
      "Net migration                         0\n",
      "Infant mortality (per 1000 births)    0\n",
      "GDP ($ per capita)                    0\n",
      "Literacy (%)                          0\n",
      "Phones (per 1000)                     0\n",
      "Arable (%)                            0\n",
      "Crops (%)                             0\n",
      "Other (%)                             0\n",
      "Climate                               0\n",
      "Birthrate                             0\n",
      "Deathrate                             0\n",
      "Agriculture                           0\n",
      "Industry                              0\n",
      "Service                               0\n",
      "dtype: int64\n"
     ]
    }
   ],
   "source": [
    "print('number of missing data:')\n",
    "print(df.isnull().sum())"
   ]
  },
  {
   "cell_type": "code",
   "execution_count": 34,
   "metadata": {},
   "outputs": [
    {
     "name": "stdout",
     "output_type": "stream",
     "text": [
      "<class 'pandas.core.frame.DataFrame'>\n",
      "RangeIndex: 227 entries, 0 to 226\n",
      "Data columns (total 20 columns):\n",
      " #   Column                              Non-Null Count  Dtype  \n",
      "---  ------                              --------------  -----  \n",
      " 0   Country                             227 non-null    object \n",
      " 1   Region                              227 non-null    object \n",
      " 2   Population                          227 non-null    int64  \n",
      " 3   Area (sq. mi.)                      227 non-null    int64  \n",
      " 4   Pop. Density (per sq. mi.)          227 non-null    float64\n",
      " 5   Coastline (coast/area ratio)        227 non-null    float64\n",
      " 6   Net migration                       227 non-null    float64\n",
      " 7   Infant mortality (per 1000 births)  227 non-null    float64\n",
      " 8   GDP ($ per capita)                  227 non-null    float64\n",
      " 9   Literacy (%)                        227 non-null    float64\n",
      " 10  Phones (per 1000)                   227 non-null    float64\n",
      " 11  Arable (%)                          227 non-null    float64\n",
      " 12  Crops (%)                           227 non-null    float64\n",
      " 13  Other (%)                           227 non-null    float64\n",
      " 14  Climate                             227 non-null    float64\n",
      " 15  Birthrate                           227 non-null    float64\n",
      " 16  Deathrate                           227 non-null    float64\n",
      " 17  Agriculture                         227 non-null    float64\n",
      " 18  Industry                            227 non-null    float64\n",
      " 19  Service                             227 non-null    float64\n",
      "dtypes: float64(16), int64(2), object(2)\n",
      "memory usage: 35.6+ KB\n"
     ]
    }
   ],
   "source": [
    "df.info()"
   ]
  },
  {
   "cell_type": "code",
   "execution_count": 35,
   "metadata": {},
   "outputs": [],
   "source": [
    "import statsmodels.api as sm\n",
    "from statsmodels.stats.outliers_influence import variance_inflation_factor\n"
   ]
  },
  {
   "cell_type": "code",
   "execution_count": 36,
   "metadata": {},
   "outputs": [
    {
     "name": "stdout",
     "output_type": "stream",
     "text": [
      "                               feature           VIF\n",
      "0           Pop. Density (per sq. mi.)      1.387146\n",
      "1         Coastline (coast/area ratio)      1.349008\n",
      "2                        Net migration      1.453199\n",
      "3   Infant mortality (per 1000 births)      8.575226\n",
      "4                   GDP ($ per capita)      4.111012\n",
      "5                         Literacy (%)      2.990474\n",
      "6                    Phones (per 1000)      5.140961\n",
      "7                           Arable (%)  20076.781907\n",
      "8                            Crops (%)   8249.789727\n",
      "9                            Other (%)  30749.195643\n",
      "10                             Climate      1.782258\n",
      "11                           Birthrate      6.097300\n",
      "12                           Deathrate      2.575528\n",
      "13                         Agriculture    104.196720\n",
      "14                            Industry     89.141124\n",
      "15                             Service    134.758760\n"
     ]
    },
    {
     "name": "stderr",
     "output_type": "stream",
     "text": [
      "C:\\Users\\Naman\\AppData\\Local\\Temp\\ipykernel_4988\\3245461485.py:8: SettingWithCopyWarning: \n",
      "A value is trying to be set on a copy of a slice from a DataFrame.\n",
      "Try using .loc[row_indexer,col_indexer] = value instead\n",
      "\n",
      "See the caveats in the documentation: https://pandas.pydata.org/pandas-docs/stable/user_guide/indexing.html#returning-a-view-versus-a-copy\n",
      "  X['intercept'] = 1  # Add an intercept column for VIF calculation\n"
     ]
    }
   ],
   "source": [
    "numerical_cols = df.select_dtypes(include=[float, int]).columns\n",
    "\n",
    "# Drop the target variable if present, for example, 'GDP ($ per capita)'\n",
    "# numerical_cols = numerical_cols.drop('GDP ($ per capita)')\n",
    "\n",
    "# Calculate VIF for each feature\n",
    "X = df[numerical_cols]\n",
    "X['intercept'] = 1  # Add an intercept column for VIF calculation\n",
    "\n",
    "vif_data = pd.DataFrame()\n",
    "vif_data[\"feature\"] = X.columns\n",
    "vif_data[\"VIF\"] = [variance_inflation_factor(X.values, i) for i in range(len(X.columns))]\n",
    "\n",
    "# Drop the intercept column VIF\n",
    "vif_data = vif_data[vif_data[\"feature\"] != \"intercept\"]\n",
    "\n",
    "print(vif_data)\n",
    "\n"
   ]
  },
  {
   "cell_type": "code",
   "execution_count": 37,
   "metadata": {},
   "outputs": [
    {
     "name": "stdout",
     "output_type": "stream",
     "text": [
      "                               feature         VIF\n",
      "0           Pop. Density (per sq. mi.)    1.373822\n",
      "1         Coastline (coast/area ratio)    1.199844\n",
      "2                        Net migration    1.389084\n",
      "3   Infant mortality (per 1000 births)    8.379110\n",
      "4                   GDP ($ per capita)    4.077577\n",
      "5                         Literacy (%)    2.907911\n",
      "6                    Phones (per 1000)    5.103506\n",
      "7                              Climate    1.612907\n",
      "8                            Birthrate    5.505591\n",
      "9                            Deathrate    2.542538\n",
      "10                         Agriculture  103.202031\n",
      "11                            Industry   88.389813\n",
      "12                             Service  133.357733\n",
      "13               Agricultural Land (%)    1.141530\n"
     ]
    },
    {
     "name": "stderr",
     "output_type": "stream",
     "text": [
      "C:\\Users\\Naman\\AppData\\Local\\Temp\\ipykernel_4988\\1651518097.py:10: SettingWithCopyWarning: \n",
      "A value is trying to be set on a copy of a slice from a DataFrame.\n",
      "Try using .loc[row_indexer,col_indexer] = value instead\n",
      "\n",
      "See the caveats in the documentation: https://pandas.pydata.org/pandas-docs/stable/user_guide/indexing.html#returning-a-view-versus-a-copy\n",
      "  X['intercept'] = 1\n"
     ]
    }
   ],
   "source": [
    "df['Agricultural Land (%)'] = df['Arable (%)'] + df['Crops (%)'] + df['Other (%)']\n",
    "\n",
    "# Drop the individual columns\n",
    "df.drop(['Arable (%)', 'Crops (%)', 'Other (%)'], axis=1, inplace=True)\n",
    "\n",
    "# Recalculate VIF after modification\n",
    "# Assuming numerical_cols are updated with the new column names\n",
    "numerical_cols = df.select_dtypes(include=[float, int]).columns\n",
    "X = df[numerical_cols]\n",
    "X['intercept'] = 1\n",
    "\n",
    "vif_data = pd.DataFrame()\n",
    "vif_data[\"feature\"] = X.columns\n",
    "vif_data[\"VIF\"] = [variance_inflation_factor(X.values, i) for i in range(len(X.columns))]\n",
    "vif_data = vif_data[vif_data[\"feature\"] != \"intercept\"]\n",
    "\n",
    "print(vif_data)\n"
   ]
  },
  {
   "cell_type": "code",
   "execution_count": 38,
   "metadata": {},
   "outputs": [
    {
     "name": "stdout",
     "output_type": "stream",
     "text": [
      "                               feature       VIF\n",
      "0           Pop. Density (per sq. mi.)  1.367897\n",
      "1         Coastline (coast/area ratio)  1.170338\n",
      "2                        Net migration  1.388685\n",
      "3   Infant mortality (per 1000 births)  7.513924\n",
      "4                   GDP ($ per capita)  3.988890\n",
      "5                         Literacy (%)  2.890348\n",
      "6                    Phones (per 1000)  4.564017\n",
      "7                              Climate  1.534868\n",
      "8                            Birthrate  5.316126\n",
      "9                            Deathrate  2.521462\n",
      "10               Agricultural Land (%)  1.140047\n",
      "11                  Economic Structure  1.353031\n"
     ]
    },
    {
     "name": "stderr",
     "output_type": "stream",
     "text": [
      "C:\\Users\\Naman\\AppData\\Local\\Temp\\ipykernel_4988\\3896134902.py:9: SettingWithCopyWarning: \n",
      "A value is trying to be set on a copy of a slice from a DataFrame.\n",
      "Try using .loc[row_indexer,col_indexer] = value instead\n",
      "\n",
      "See the caveats in the documentation: https://pandas.pydata.org/pandas-docs/stable/user_guide/indexing.html#returning-a-view-versus-a-copy\n",
      "  X['intercept'] = 1\n"
     ]
    }
   ],
   "source": [
    "df['Economic Structure'] = (df['Agriculture'] + df['Industry'] + df['Service']) / 3.0\n",
    "\n",
    "# Drop the individual columns\n",
    "df.drop(['Agriculture', 'Industry', 'Service'], axis=1, inplace=True)\n",
    "\n",
    "# Recalculate VIF after modification\n",
    "numerical_cols = df.select_dtypes(include=[float, int]).columns\n",
    "X = df[numerical_cols]\n",
    "X['intercept'] = 1\n",
    "\n",
    "vif_data = pd.DataFrame()\n",
    "vif_data[\"feature\"] = X.columns\n",
    "vif_data[\"VIF\"] = [variance_inflation_factor(X.values, i) for i in range(len(X.columns))]\n",
    "vif_data = vif_data[vif_data[\"feature\"] != \"intercept\"]\n",
    "\n",
    "print(vif_data)\n"
   ]
  },
  {
   "cell_type": "code",
   "execution_count": 39,
   "metadata": {},
   "outputs": [],
   "source": [
    "from sklearn.preprocessing import StandardScaler\n",
    "\n",
    "# Select numerical columns for scaling\n",
    "numerical_cols = df.select_dtypes(include=[float, int]).columns\n",
    "\n",
    "# Initialize the scaler\n",
    "scaler = StandardScaler()\n",
    "\n",
    "# Scale the numerical columns\n",
    "df_scaled = scaler.fit_transform(df[numerical_cols])\n",
    "\n",
    "# Convert scaled data back to DataFrame\n",
    "df_scaled = pd.DataFrame(df_scaled, columns=numerical_cols)\n",
    "\n",
    "# Combine with non-numerical columns if needed\n",
    "# Example: df_scaled = pd.concat([df_scaled, df[['Country', 'Region']]], axis=1)\n",
    "\n",
    "# Replace original numerical columns with scaled ones\n",
    "df[numerical_cols] = df_scaled\n",
    "\n",
    "# Now df contains scaled numerical columns"
   ]
  },
  {
   "cell_type": "code",
   "execution_count": 40,
   "metadata": {},
   "outputs": [
    {
     "data": {
      "text/html": [
       "<div>\n",
       "<style scoped>\n",
       "    .dataframe tbody tr th:only-of-type {\n",
       "        vertical-align: middle;\n",
       "    }\n",
       "\n",
       "    .dataframe tbody tr th {\n",
       "        vertical-align: top;\n",
       "    }\n",
       "\n",
       "    .dataframe thead th {\n",
       "        text-align: right;\n",
       "    }\n",
       "</style>\n",
       "<table border=\"1\" class=\"dataframe\">\n",
       "  <thead>\n",
       "    <tr style=\"text-align: right;\">\n",
       "      <th></th>\n",
       "      <th>Country</th>\n",
       "      <th>Region</th>\n",
       "      <th>Population</th>\n",
       "      <th>Area (sq. mi.)</th>\n",
       "      <th>Pop. Density (per sq. mi.)</th>\n",
       "      <th>Coastline (coast/area ratio)</th>\n",
       "      <th>Net migration</th>\n",
       "      <th>Infant mortality (per 1000 births)</th>\n",
       "      <th>GDP ($ per capita)</th>\n",
       "      <th>Literacy (%)</th>\n",
       "      <th>Phones (per 1000)</th>\n",
       "      <th>Climate</th>\n",
       "      <th>Birthrate</th>\n",
       "      <th>Deathrate</th>\n",
       "      <th>Agricultural Land (%)</th>\n",
       "      <th>Economic Structure</th>\n",
       "      <th>Country_LabelEncoded</th>\n",
       "      <th>Region_LabelEncoded</th>\n",
       "    </tr>\n",
       "  </thead>\n",
       "  <tbody>\n",
       "    <tr>\n",
       "      <th>0</th>\n",
       "      <td>Afghanistan</td>\n",
       "      <td>ASIA (EX. NEAR EAST)</td>\n",
       "      <td>31056997</td>\n",
       "      <td>647500</td>\n",
       "      <td>-0.199844</td>\n",
       "      <td>-0.293443</td>\n",
       "      <td>4.751072</td>\n",
       "      <td>3.636130</td>\n",
       "      <td>-0.896661</td>\n",
       "      <td>-2.469128</td>\n",
       "      <td>-1.024513</td>\n",
       "      <td>-1.634294</td>\n",
       "      <td>2.209141</td>\n",
       "      <td>2.249437</td>\n",
       "      <td>0.092953</td>\n",
       "      <td>0.145194</td>\n",
       "      <td>0</td>\n",
       "      <td>0</td>\n",
       "    </tr>\n",
       "    <tr>\n",
       "      <th>1</th>\n",
       "      <td>Albania</td>\n",
       "      <td>EASTERN EUROPE</td>\n",
       "      <td>3581655</td>\n",
       "      <td>28748</td>\n",
       "      <td>-0.153603</td>\n",
       "      <td>-0.275974</td>\n",
       "      <td>-1.024725</td>\n",
       "      <td>-0.391698</td>\n",
       "      <td>-0.516956</td>\n",
       "      <td>0.151085</td>\n",
       "      <td>-0.723483</td>\n",
       "      <td>1.118840</td>\n",
       "      <td>-0.625704</td>\n",
       "      <td>-0.802742</td>\n",
       "      <td>0.092953</td>\n",
       "      <td>0.085105</td>\n",
       "      <td>1</td>\n",
       "      <td>3</td>\n",
       "    </tr>\n",
       "    <tr>\n",
       "      <th>2</th>\n",
       "      <td>Algeria</td>\n",
       "      <td>NORTHERN AFRICA</td>\n",
       "      <td>32930091</td>\n",
       "      <td>2381740</td>\n",
       "      <td>-0.220490</td>\n",
       "      <td>-0.292889</td>\n",
       "      <td>-0.087886</td>\n",
       "      <td>-0.121944</td>\n",
       "      <td>-0.367072</td>\n",
       "      <td>-0.705024</td>\n",
       "      <td>-0.692938</td>\n",
       "      <td>-1.634294</td>\n",
       "      <td>-0.442956</td>\n",
       "      <td>-0.925878</td>\n",
       "      <td>0.092953</td>\n",
       "      <td>0.085105</td>\n",
       "      <td>2</td>\n",
       "      <td>6</td>\n",
       "    </tr>\n",
       "    <tr>\n",
       "      <th>3</th>\n",
       "      <td>American Samoa</td>\n",
       "      <td>OCEANIA</td>\n",
       "      <td>57794</td>\n",
       "      <td>199</td>\n",
       "      <td>-0.053514</td>\n",
       "      <td>0.514709</td>\n",
       "      <td>-4.280962</td>\n",
       "      <td>-0.740274</td>\n",
       "      <td>-0.167227</td>\n",
       "      <td>0.695882</td>\n",
       "      <td>0.110104</td>\n",
       "      <td>-0.257727</td>\n",
       "      <td>0.035970</td>\n",
       "      <td>-1.196376</td>\n",
       "      <td>0.092953</td>\n",
       "      <td>-1.927893</td>\n",
       "      <td>3</td>\n",
       "      <td>8</td>\n",
       "    </tr>\n",
       "    <tr>\n",
       "      <th>4</th>\n",
       "      <td>Andorra</td>\n",
       "      <td>WESTERN EUROPE</td>\n",
       "      <td>71201</td>\n",
       "      <td>468</td>\n",
       "      <td>-0.137002</td>\n",
       "      <td>-0.293443</td>\n",
       "      <td>1.354516</td>\n",
       "      <td>-0.888810</td>\n",
       "      <td>0.931920</td>\n",
       "      <td>0.851538</td>\n",
       "      <td>1.162382</td>\n",
       "      <td>1.118840</td>\n",
       "      <td>-1.201856</td>\n",
       "      <td>-0.594822</td>\n",
       "      <td>0.092953</td>\n",
       "      <td>-0.635969</td>\n",
       "      <td>4</td>\n",
       "      <td>10</td>\n",
       "    </tr>\n",
       "  </tbody>\n",
       "</table>\n",
       "</div>"
      ],
      "text/plain": [
       "           Country                               Region  Population  \\\n",
       "0     Afghanistan         ASIA (EX. NEAR EAST)             31056997   \n",
       "1         Albania   EASTERN EUROPE                          3581655   \n",
       "2         Algeria   NORTHERN AFRICA                        32930091   \n",
       "3  American Samoa   OCEANIA                                   57794   \n",
       "4         Andorra   WESTERN EUROPE                            71201   \n",
       "\n",
       "   Area (sq. mi.)  Pop. Density (per sq. mi.)  Coastline (coast/area ratio)  \\\n",
       "0          647500                   -0.199844                     -0.293443   \n",
       "1           28748                   -0.153603                     -0.275974   \n",
       "2         2381740                   -0.220490                     -0.292889   \n",
       "3             199                   -0.053514                      0.514709   \n",
       "4             468                   -0.137002                     -0.293443   \n",
       "\n",
       "   Net migration  Infant mortality (per 1000 births)  GDP ($ per capita)  \\\n",
       "0       4.751072                            3.636130           -0.896661   \n",
       "1      -1.024725                           -0.391698           -0.516956   \n",
       "2      -0.087886                           -0.121944           -0.367072   \n",
       "3      -4.280962                           -0.740274           -0.167227   \n",
       "4       1.354516                           -0.888810            0.931920   \n",
       "\n",
       "   Literacy (%)  Phones (per 1000)   Climate  Birthrate  Deathrate  \\\n",
       "0     -2.469128          -1.024513 -1.634294   2.209141   2.249437   \n",
       "1      0.151085          -0.723483  1.118840  -0.625704  -0.802742   \n",
       "2     -0.705024          -0.692938 -1.634294  -0.442956  -0.925878   \n",
       "3      0.695882           0.110104 -0.257727   0.035970  -1.196376   \n",
       "4      0.851538           1.162382  1.118840  -1.201856  -0.594822   \n",
       "\n",
       "   Agricultural Land (%)  Economic Structure  Country_LabelEncoded  \\\n",
       "0               0.092953            0.145194                     0   \n",
       "1               0.092953            0.085105                     1   \n",
       "2               0.092953            0.085105                     2   \n",
       "3               0.092953           -1.927893                     3   \n",
       "4               0.092953           -0.635969                     4   \n",
       "\n",
       "   Region_LabelEncoded  \n",
       "0                    0  \n",
       "1                    3  \n",
       "2                    6  \n",
       "3                    8  \n",
       "4                   10  "
      ]
     },
     "execution_count": 40,
     "metadata": {},
     "output_type": "execute_result"
    }
   ],
   "source": [
    "from sklearn.preprocessing import LabelEncoder\n",
    "\n",
    "# Create a label encoder object\n",
    "label_encoder = LabelEncoder()\n",
    "\n",
    "# Encode Country and Region columns\n",
    "df['Country_LabelEncoded'] = label_encoder.fit_transform(df['Country'])\n",
    "df['Region_LabelEncoded'] = label_encoder.fit_transform(df['Region'])\n",
    "\n",
    "# Display the first few rows of the dataframe to inspect the changes\n",
    "df.head()\n"
   ]
  },
  {
   "cell_type": "code",
   "execution_count": 55,
   "metadata": {},
   "outputs": [
    {
     "name": "stdout",
     "output_type": "stream",
     "text": [
      "Ridge Regression RMSE: 0.4281446812345789\n",
      "Ridge Regression Coefficients:\n",
      "Population: -1.9428420161436794e-10\n",
      "Area (sq. mi.): 1.543955604017549e-08\n",
      "Pop. Density (per sq. mi.): -0.03856219467757321\n",
      "Coastline (coast/area ratio): -0.03166531743834147\n",
      "Net migration: 0.2116553951638394\n",
      "Infant mortality (per 1000 births): -0.12598712869653267\n",
      "Literacy (%): -0.0067870445223114076\n",
      "Phones (per 1000): 0.6050367617290089\n",
      "Climate: -0.04719238375497853\n",
      "Birthrate: -0.1702424474819079\n",
      "Deathrate: 0.03541756500418033\n",
      "Agricultural Land (%): 0.04009344191545037\n",
      "Economic Structure: 0.01756452126741934\n",
      "Country_LabelEncoded: -0.00045326102068494643\n",
      "Region_LabelEncoded: 0.04137820379360672\n"
     ]
    },
    {
     "name": "stderr",
     "output_type": "stream",
     "text": [
      "C:\\ProgramData\\Anaconda3\\lib\\site-packages\\sklearn\\linear_model\\_ridge.py:147: LinAlgWarning: Ill-conditioned matrix (rcond=3.97206e-18): result may not be accurate.\n",
      "  return linalg.solve(A, Xy, sym_pos=True,\n"
     ]
    }
   ],
   "source": [
    "from sklearn.model_selection import train_test_split\n",
    "from sklearn.linear_model import Ridge\n",
    "from sklearn.metrics import mean_squared_error\n",
    "\n",
    "# Assuming df_with_dummies is your dataframe with dummy variables for Country and Region\n",
    "# Split data into training and testing sets\n",
    "X = df.drop(['GDP ($ per capita)', 'Country', 'Region'], axis=1)  # Features\n",
    "y = df['GDP ($ per capita)']  # Target variable\n",
    "\n",
    "X_train, X_test, y_train, y_test = train_test_split(X, y, test_size=0.2, random_state=42)\n",
    "\n",
    "# Fit Ridge regression model\n",
    "ridge = Ridge(alpha=1.0)  # alpha is the regularization strength\n",
    "ridge.fit(X_train, y_train)\n",
    "\n",
    "# Predict on test set\n",
    "y_pred_r = ridge.predict(X_test)\n",
    "\n",
    "# Calculate RMSE (Root Mean Squared Error)\n",
    "rmse = mean_squared_error(y_test, y_pred, squared=False)\n",
    "print(f\"Ridge Regression RMSE: {rmse}\")\n",
    "\n",
    "# Print coefficients\n",
    "print(\"Ridge Regression Coefficients:\")\n",
    "for feature, coef in zip(X.columns, ridge.coef_):\n",
    "    print(f\"{feature}: {coef}\")\n"
   ]
  },
  {
   "cell_type": "code",
   "execution_count": 56,
   "metadata": {},
   "outputs": [
    {
     "name": "stdout",
     "output_type": "stream",
     "text": [
      "Lasso Regression RMSE: 0.4281446812345789\n",
      "Lasso Regression Coefficients:\n",
      "Population: -3.0273859497515933e-10\n",
      "Area (sq. mi.): 2.7408285519367636e-08\n",
      "Pop. Density (per sq. mi.): -0.0\n",
      "Coastline (coast/area ratio): -0.0\n",
      "Net migration: 0.12218015765590387\n",
      "Infant mortality (per 1000 births): -0.00575457507497851\n",
      "Literacy (%): 0.0\n",
      "Phones (per 1000): 0.5982466279192709\n",
      "Climate: 0.0\n",
      "Birthrate: -0.12509799221676315\n",
      "Deathrate: -0.0\n",
      "Agricultural Land (%): 0.0\n",
      "Economic Structure: 0.0\n",
      "Country_LabelEncoded: -0.0003583809821965272\n",
      "Region_LabelEncoded: 0.027274648385939352\n"
     ]
    }
   ],
   "source": [
    "from sklearn.linear_model import Lasso\n",
    "\n",
    "# Fit Lasso regression model\n",
    "lasso = Lasso(alpha=0.1)  # alpha is the regularization strength\n",
    "lasso.fit(X_train, y_train)\n",
    "\n",
    "# Predict on test set\n",
    "y_pred_l = lasso.predict(X_test)\n",
    "\n",
    "# Calculate RMSE (Root Mean Squared Error)\n",
    "rmse = mean_squared_error(y_test, y_pred, squared=False)\n",
    "print(f\"Lasso Regression RMSE: {rmse}\")\n",
    "\n",
    "# Print coefficients\n",
    "print(\"Lasso Regression Coefficients:\")\n",
    "for feature, coef in zip(X.columns, lasso.coef_):\n",
    "    print(f\"{feature}: {coef}\")\n"
   ]
  },
  {
   "cell_type": "code",
   "execution_count": 57,
   "metadata": {},
   "outputs": [
    {
     "name": "stdout",
     "output_type": "stream",
     "text": [
      "R-squared (R2) on testing set: 0.8101890682631062\n",
      "Adjusted R-squared (adjusted R2) on testing set: 0.7152836023946594\n"
     ]
    }
   ],
   "source": [
    "from sklearn.metrics import r2_score\n",
    "\n",
    "r_r2 = r2_score(y_test, y_pred_r)\n",
    "\n",
    "# Calculate adjusted R-squared (adjusted R2) score\n",
    "n = X_test.shape[0]  # Number of samples\n",
    "p = X_test.shape[1]  # Number of features\n",
    "r_adjusted_r2 = 1 - (1 - r_r2) * (n - 1) / (n - p - 1)\n",
    "\n",
    "\n",
    "print(f\"R-squared (R2) on testing set: {r_r2}\")\n",
    "print(f\"Adjusted R-squared (adjusted R2) on testing set: {r_adjusted_r2}\")"
   ]
  },
  {
   "cell_type": "code",
   "execution_count": 58,
   "metadata": {},
   "outputs": [
    {
     "name": "stdout",
     "output_type": "stream",
     "text": [
      "R-squared (R2) on testing set: 0.8101890682631062\n",
      "Adjusted R-squared (adjusted R2) on testing set: 0.7152836023946594\n"
     ]
    }
   ],
   "source": [
    "l_r2 = r2_score(y_test, y_pred_l)\n",
    "\n",
    "# Calculate adjusted R-squared (adjusted R2) score\n",
    "n = X_test.shape[0]  # Number of samples\n",
    "p = X_test.shape[1]  # Number of features\n",
    "l_adjusted_r2 = 1 - (1 - l_r2) * (n - 1) / (n - p - 1)\n",
    "\n",
    "\n",
    "print(f\"R-squared (R2) on testing set: {r_r2}\")\n",
    "print(f\"Adjusted R-squared (adjusted R2) on testing set: {r_adjusted_r2}\")"
   ]
  },
  {
   "cell_type": "code",
   "execution_count": 59,
   "metadata": {},
   "outputs": [
    {
     "data": {
      "image/png": "[encoded data removed]",
      "text/plain": [
       "<Figure size 720x432 with 1 Axes>"
      ]
     },
     "metadata": {
      "needs_background": "light"
     },
     "output_type": "display_data"
    }
   ],
   "source": [
    "from statsmodels.stats.diagnostic import het_breuschpagan\n",
    "from statsmodels.stats.outliers_influence import OLSInfluence\n",
    "\n",
    "# Assuming ridge is already trained on X_train and y_train\n",
    "# Predict on testing set\n",
    "y_pred_r = ridge.predict(X_test)\n",
    "\n",
    "# Calculate residuals\n",
    "residuals = y_test - y_pred_r\n",
    "\n",
    "# Scatter plot of residuals vs. predicted values\n",
    "plt.figure(figsize=(10, 6))\n",
    "sns.scatterplot(x=y_pred_r, y=residuals)\n",
    "plt.axhline(y=0, color='r', linestyle='--')\n",
    "plt.title('Residuals vs. Predicted Values (Homoscedasticity Check)')\n",
    "plt.xlabel('Predicted Values')\n",
    "plt.ylabel('Residuals')\n",
    "plt.show()"
   ]
  },
  {
   "cell_type": "code",
   "execution_count": 60,
   "metadata": {},
   "outputs": [
    {
     "name": "stdout",
     "output_type": "stream",
     "text": [
      "Breusch-Pagan test p-value: 0.017266756690324733\n"
     ]
    }
   ],
   "source": [
    "bp_test = het_breuschpagan(residuals, X_test)\n",
    "print(f\"Breusch-Pagan test p-value: {bp_test[1]}\")"
   ]
  },
  {
   "cell_type": "code",
   "execution_count": null,
   "metadata": {},
   "outputs": [],
   "source": []
  }
 ],
 "metadata": {
  "kernelspec": {
   "display_name": "Python 3 (ipykernel)",
   "language": "python",
   "name": "python3"
  },
  "language_info": {
   "codemirror_mode": {
    "name": "ipython",
    "version": 3
   },
   "file_extension": ".py",
   "mimetype": "text/x-python",
   "name": "python",
   "nbconvert_exporter": "python",
   "pygments_lexer": "ipython3",
   "version": "3.8.5"
  }
 },
 "nbformat": 4,
 "nbformat_minor": 4
}
